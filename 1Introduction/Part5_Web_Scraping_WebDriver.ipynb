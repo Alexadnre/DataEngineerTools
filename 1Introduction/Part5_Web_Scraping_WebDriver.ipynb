{
 "cells": [
  {
   "cell_type": "markdown",
   "metadata": {},
   "source": [
    "# Introduction"
   ]
  },
  {
   "cell_type": "markdown",
   "metadata": {},
   "source": [
    "Aujourd'hui la plupart des sites web utilisent du JavaScript pour rendre le site plus dynamique et agréable, mais aussi pour afficher la donnée. \n",
    "\n",
    "Pour ces sites, la première méthode abordée n'est pas efficace, car de nombreuses requêtes sont utilisées pour se connecter, afficher la donnée, naviguer, il faudrait prendre en compte toutes ces requêtes et les assembler pour simuler le comportement du site. \n",
    "\n",
    "**C'est le comportement de votre navigateur**, il compile toutes les interactions, les requêtes et génère du HTML permettant d'afficher l'interface graphique d'un site web.\n",
    "\n",
    "Pour palier ce problème, on peut laisser le navigateur faire son travail et contrôler sa surcouche logicielle. Pour cela, on peut prendre le contrôle d'un navigateur comme Chrome, Edge, Firefox ou Safari depuis un script Python. \n",
    "\n",
    "Pour cela, nous allons utiliser un package Python `Selenium` https://selenium-python.readthedocs.io/ qui permet d'instancier un navigateur et de le contrôler. Sélénium est beaucoup utilisé pour générer des tests automatiques de sites web. \n",
    "\n",
    "On peut trouver les drivers des différents browser : \n",
    "- Chrome:\thttps://googlechromelabs.github.io/chrome-for-testing/#stable (bien télécharger le \"chromedriver\" et non pas chrome)\n",
    "- Firefox:\thttps://github.com/mozilla/geckodriver/releases\n",
    "- Safari:\thttps://webkit.org/blog/6900/webdriver-support-in-safari-10/"
   ]
  },
  {
   "cell_type": "markdown",
   "metadata": {},
   "source": [
    "**Depuis les dernières versions de Selenium, il n'est plus néccessaires de télécharger les driver des browsers car Selenium les manage**"
   ]
  },
  {
   "cell_type": "code",
   "execution_count": 5,
   "metadata": {
    "ExecuteTime": {
     "end_time": "2024-10-07T20:20:49.439215Z",
     "start_time": "2024-10-07T20:20:49.436763Z"
    }
   },
   "outputs": [],
   "source": [
    "from selenium import webdriver\n"
   ]
  },
  {
   "cell_type": "code",
   "execution_count": null,
   "metadata": {
    "ExecuteTime": {
     "end_time": "2024-10-07T20:20:50.364966Z",
     "start_time": "2024-10-07T20:20:49.707577Z"
    }
   },
   "outputs": [],
   "source": [
    "chrome = webdriver.Chrome()"
   ]
  },
  {
   "cell_type": "markdown",
   "metadata": {},
   "source": [
    "Vous devez voir apparaître une nouvelle instance de votre navigateur.\n",
    "Chrome vous demande depuis peu de selectionner votre navigateur par défaut. Etant donné que notre but est de tout controller depuis notre code, on peut bypass cette demande en ajoutant des options au webdriver de Chrome"
   ]
  },
  {
   "cell_type": "code",
   "execution_count": null,
   "metadata": {
    "ExecuteTime": {
     "end_time": "2024-10-07T20:20:56.232916Z",
     "start_time": "2024-10-07T20:20:55.301154Z"
    }
   },
   "outputs": [
    {
     "name": "stderr",
     "output_type": "stream",
     "text": [
      "There was an error managing chromedriver (error sending request for url (https://googlechromelabs.github.io/chrome-for-testing/known-good-versions-with-downloads.json)); using driver found in the cache\n"
     ]
    }
   ],
   "source": [
    "from selenium.webdriver.chrome.options import Options\n",
    "\n",
    "chrome_options = Options()\n",
    "chrome_options.add_argument(\"--disable-search-engine-choice-screen\")\n",
    "\n",
    "chrome = webdriver.Chrome(options=chrome_options)"
   ]
  },
  {
   "cell_type": "markdown",
   "metadata": {},
   "source": [
    "Maintenant, vous avez le controlle du navigateur depuis Python. Si vous voulez accéder à une page :"
   ]
  },
  {
   "cell_type": "code",
   "execution_count": null,
   "metadata": {
    "ExecuteTime": {
     "end_time": "2024-10-07T20:21:03.242209Z",
     "start_time": "2024-10-07T20:21:02.495942Z"
    }
   },
   "outputs": [
    {
     "ename": "WebDriverException",
     "evalue": "Message: unknown error: net::ERR_NAME_NOT_RESOLVED\n  (Session info: chrome=131.0.6778.86)\nStacktrace:\n\tGetHandleVerifier [0x00007FF6FAFB2775+28773]\n\t(No symbol) [0x00007FF6FAF1AFB0]\n\t(No symbol) [0x00007FF6FADB552A]\n\t(No symbol) [0x00007FF6FADB2C81]\n\t(No symbol) [0x00007FF6FADA3989]\n\t(No symbol) [0x00007FF6FADA56DF]\n\t(No symbol) [0x00007FF6FADA3C4F]\n\t(No symbol) [0x00007FF6FADA34CD]\n\t(No symbol) [0x00007FF6FADA33EA]\n\t(No symbol) [0x00007FF6FADA1001]\n\t(No symbol) [0x00007FF6FADA18CC]\n\t(No symbol) [0x00007FF6FADB85FA]\n\t(No symbol) [0x00007FF6FAE4FFAE]\n\t(No symbol) [0x00007FF6FAE2EF9A]\n\t(No symbol) [0x00007FF6FAE4F1A4]\n\t(No symbol) [0x00007FF6FAE2ED43]\n\t(No symbol) [0x00007FF6FADFA548]\n\t(No symbol) [0x00007FF6FADFB6B1]\n\tGetHandleVerifier [0x00007FF6FB2DF45D+3358029]\n\tGetHandleVerifier [0x00007FF6FB2F430D+3443709]\n\tGetHandleVerifier [0x00007FF6FB2E83FD+3394797]\n\tGetHandleVerifier [0x00007FF6FB07929B+842635]\n\t(No symbol) [0x00007FF6FAF2654F]\n\t(No symbol) [0x00007FF6FAF21FA4]\n\t(No symbol) [0x00007FF6FAF2213D]\n\t(No symbol) [0x00007FF6FAF11629]\n\tBaseThreadInitThunk [0x00007FF94EA37374+20]\n\tRtlUserThreadStart [0x00007FF94FFFCC91+33]\n",
     "output_type": "error",
     "traceback": [
      "\u001b[1;31m---------------------------------------------------------------------------\u001b[0m",
      "\u001b[1;31mWebDriverException\u001b[0m                        Traceback (most recent call last)",
      "Cell \u001b[1;32mIn[4], line 1\u001b[0m\n\u001b[1;32m----> 1\u001b[0m \u001b[43mchrome\u001b[49m\u001b[38;5;241;43m.\u001b[39;49m\u001b[43mget\u001b[49m\u001b[43m(\u001b[49m\u001b[38;5;124;43m\"\u001b[39;49m\u001b[38;5;124;43mhttps://books.toscrape.com/\u001b[39;49m\u001b[38;5;124;43m\"\u001b[39;49m\u001b[43m)\u001b[49m\n",
      "File \u001b[1;32mc:\\Users\\alexa\\.virtualenvs\\DataEngineerTools-oOSzfaZD\\Lib\\site-packages\\selenium\\webdriver\\remote\\webdriver.py:363\u001b[0m, in \u001b[0;36mWebDriver.get\u001b[1;34m(self, url)\u001b[0m\n\u001b[0;32m    361\u001b[0m \u001b[38;5;28;01mdef\u001b[39;00m \u001b[38;5;21mget\u001b[39m(\u001b[38;5;28mself\u001b[39m, url: \u001b[38;5;28mstr\u001b[39m) \u001b[38;5;241m-\u001b[39m\u001b[38;5;241m>\u001b[39m \u001b[38;5;28;01mNone\u001b[39;00m:\n\u001b[0;32m    362\u001b[0m \u001b[38;5;250m    \u001b[39m\u001b[38;5;124;03m\"\"\"Loads a web page in the current browser session.\"\"\"\u001b[39;00m\n\u001b[1;32m--> 363\u001b[0m     \u001b[38;5;28;43mself\u001b[39;49m\u001b[38;5;241;43m.\u001b[39;49m\u001b[43mexecute\u001b[49m\u001b[43m(\u001b[49m\u001b[43mCommand\u001b[49m\u001b[38;5;241;43m.\u001b[39;49m\u001b[43mGET\u001b[49m\u001b[43m,\u001b[49m\u001b[43m \u001b[49m\u001b[43m{\u001b[49m\u001b[38;5;124;43m\"\u001b[39;49m\u001b[38;5;124;43murl\u001b[39;49m\u001b[38;5;124;43m\"\u001b[39;49m\u001b[43m:\u001b[49m\u001b[43m \u001b[49m\u001b[43murl\u001b[49m\u001b[43m}\u001b[49m\u001b[43m)\u001b[49m\n",
      "File \u001b[1;32mc:\\Users\\alexa\\.virtualenvs\\DataEngineerTools-oOSzfaZD\\Lib\\site-packages\\selenium\\webdriver\\remote\\webdriver.py:354\u001b[0m, in \u001b[0;36mWebDriver.execute\u001b[1;34m(self, driver_command, params)\u001b[0m\n\u001b[0;32m    352\u001b[0m response \u001b[38;5;241m=\u001b[39m \u001b[38;5;28mself\u001b[39m\u001b[38;5;241m.\u001b[39mcommand_executor\u001b[38;5;241m.\u001b[39mexecute(driver_command, params)\n\u001b[0;32m    353\u001b[0m \u001b[38;5;28;01mif\u001b[39;00m response:\n\u001b[1;32m--> 354\u001b[0m     \u001b[38;5;28;43mself\u001b[39;49m\u001b[38;5;241;43m.\u001b[39;49m\u001b[43merror_handler\u001b[49m\u001b[38;5;241;43m.\u001b[39;49m\u001b[43mcheck_response\u001b[49m\u001b[43m(\u001b[49m\u001b[43mresponse\u001b[49m\u001b[43m)\u001b[49m\n\u001b[0;32m    355\u001b[0m     response[\u001b[38;5;124m\"\u001b[39m\u001b[38;5;124mvalue\u001b[39m\u001b[38;5;124m\"\u001b[39m] \u001b[38;5;241m=\u001b[39m \u001b[38;5;28mself\u001b[39m\u001b[38;5;241m.\u001b[39m_unwrap_value(response\u001b[38;5;241m.\u001b[39mget(\u001b[38;5;124m\"\u001b[39m\u001b[38;5;124mvalue\u001b[39m\u001b[38;5;124m\"\u001b[39m, \u001b[38;5;28;01mNone\u001b[39;00m))\n\u001b[0;32m    356\u001b[0m     \u001b[38;5;28;01mreturn\u001b[39;00m response\n",
      "File \u001b[1;32mc:\\Users\\alexa\\.virtualenvs\\DataEngineerTools-oOSzfaZD\\Lib\\site-packages\\selenium\\webdriver\\remote\\errorhandler.py:229\u001b[0m, in \u001b[0;36mErrorHandler.check_response\u001b[1;34m(self, response)\u001b[0m\n\u001b[0;32m    227\u001b[0m         alert_text \u001b[38;5;241m=\u001b[39m value[\u001b[38;5;124m\"\u001b[39m\u001b[38;5;124malert\u001b[39m\u001b[38;5;124m\"\u001b[39m]\u001b[38;5;241m.\u001b[39mget(\u001b[38;5;124m\"\u001b[39m\u001b[38;5;124mtext\u001b[39m\u001b[38;5;124m\"\u001b[39m)\n\u001b[0;32m    228\u001b[0m     \u001b[38;5;28;01mraise\u001b[39;00m exception_class(message, screen, stacktrace, alert_text)  \u001b[38;5;66;03m# type: ignore[call-arg]  # mypy is not smart enough here\u001b[39;00m\n\u001b[1;32m--> 229\u001b[0m \u001b[38;5;28;01mraise\u001b[39;00m exception_class(message, screen, stacktrace)\n",
      "\u001b[1;31mWebDriverException\u001b[0m: Message: unknown error: net::ERR_NAME_NOT_RESOLVED\n  (Session info: chrome=131.0.6778.86)\nStacktrace:\n\tGetHandleVerifier [0x00007FF6FAFB2775+28773]\n\t(No symbol) [0x00007FF6FAF1AFB0]\n\t(No symbol) [0x00007FF6FADB552A]\n\t(No symbol) [0x00007FF6FADB2C81]\n\t(No symbol) [0x00007FF6FADA3989]\n\t(No symbol) [0x00007FF6FADA56DF]\n\t(No symbol) [0x00007FF6FADA3C4F]\n\t(No symbol) [0x00007FF6FADA34CD]\n\t(No symbol) [0x00007FF6FADA33EA]\n\t(No symbol) [0x00007FF6FADA1001]\n\t(No symbol) [0x00007FF6FADA18CC]\n\t(No symbol) [0x00007FF6FADB85FA]\n\t(No symbol) [0x00007FF6FAE4FFAE]\n\t(No symbol) [0x00007FF6FAE2EF9A]\n\t(No symbol) [0x00007FF6FAE4F1A4]\n\t(No symbol) [0x00007FF6FAE2ED43]\n\t(No symbol) [0x00007FF6FADFA548]\n\t(No symbol) [0x00007FF6FADFB6B1]\n\tGetHandleVerifier [0x00007FF6FB2DF45D+3358029]\n\tGetHandleVerifier [0x00007FF6FB2F430D+3443709]\n\tGetHandleVerifier [0x00007FF6FB2E83FD+3394797]\n\tGetHandleVerifier [0x00007FF6FB07929B+842635]\n\t(No symbol) [0x00007FF6FAF2654F]\n\t(No symbol) [0x00007FF6FAF21FA4]\n\t(No symbol) [0x00007FF6FAF2213D]\n\t(No symbol) [0x00007FF6FAF11629]\n\tBaseThreadInitThunk [0x00007FF94EA37374+20]\n\tRtlUserThreadStart [0x00007FF94FFFCC91+33]\n"
     ]
    }
   ],
   "source": [
    "chrome.get(\"https://books.toscrape.com/\")"
   ]
  },
  {
   "cell_type": "markdown",
   "metadata": {},
   "source": [
    "Allez maintenant voir votre fenêtre. Vous êtes sur un faux site de vente de livre. Ce site est spécialement concu pour être scrapé et comprendre les bases, mais en réalité scraper un site est un peu plus complexe, comme vous allez vous en rendre compte dans la section 2 sur Scrapy.\n",
    "\n",
    "Vous pouvez maintenant vous déplacer dans la page. Pour cela, il va falloir inspecter le code source de la page.\n",
    "\n",
    "Il existe de nombreuse méthode pour récupérer les éléments par exemple `find_element` qui permet de récupérer un élément grâce au texte affiché. Ici, si on veut récupérer cliquer sur la section `Travel` pour récupérer les livres de voyages"
   ]
  },
  {
   "cell_type": "code",
   "execution_count": null,
   "metadata": {
    "ExecuteTime": {
     "end_time": "2024-10-07T20:21:05.755116Z",
     "start_time": "2024-10-07T20:21:05.745587Z"
    }
   },
   "outputs": [
    {
     "data": {
      "text/plain": [
       "selenium.webdriver.remote.webelement.WebElement"
      ]
     },
     "execution_count": 5,
     "metadata": {},
     "output_type": "execute_result"
    }
   ],
   "source": [
    "from selenium.webdriver.common.by import By\n",
    "link = chrome.find_element(By.LINK_TEXT, \"Travel\")\n",
    "type(link)"
   ]
  },
  {
   "cell_type": "markdown",
   "metadata": {},
   "source": [
    "Si on veut entrer dans le lien, il suffit d'appeler la méthode `click`."
   ]
  },
  {
   "cell_type": "code",
   "execution_count": null,
   "metadata": {
    "ExecuteTime": {
     "end_time": "2024-10-07T20:21:13.093751Z",
     "start_time": "2024-10-07T20:21:12.648032Z"
    }
   },
   "outputs": [],
   "source": [
    "link.click()"
   ]
  },
  {
   "cell_type": "markdown",
   "metadata": {},
   "source": [
    "Vous êtes arrivé sur la page des livres de voyage. Maintenant nous allons récupérer toutes les livres. On remarque que tous les livres ont une class HTML nommée `product_pod`."
   ]
  },
  {
   "cell_type": "code",
   "execution_count": null,
   "metadata": {
    "ExecuteTime": {
     "end_time": "2024-10-07T20:23:04.672320Z",
     "start_time": "2024-10-07T20:23:04.660727Z"
    }
   },
   "outputs": [
    {
     "data": {
      "text/plain": [
       "(list, 20)"
      ]
     },
     "execution_count": 36,
     "metadata": {},
     "output_type": "execute_result"
    }
   ],
   "source": [
    "all_widgets = chrome.find_elements(By.CLASS_NAME, \"product_pod\")\n",
    "type(all_widgets), len(all_widgets)"
   ]
  },
  {
   "cell_type": "markdown",
   "metadata": {},
   "source": [
    "On obtient une liste d'éléments décrits par cette class. Il y en a 11, un pour chaque livre. Pour récupérer le titre du premier livre: "
   ]
  },
  {
   "cell_type": "code",
   "execution_count": null,
   "metadata": {
    "ExecuteTime": {
     "end_time": "2024-10-07T20:27:37.371182Z",
     "start_time": "2024-10-07T20:27:37.354009Z"
    }
   },
   "outputs": [
    {
     "data": {
      "text/plain": [
       "'A Light in the ...'"
      ]
     },
     "execution_count": 35,
     "metadata": {},
     "output_type": "execute_result"
    }
   ],
   "source": [
    "first_book = all_widgets[0]\n",
    "first_book_title = first_book.find_element(By.CSS_SELECTOR, \"h3\")\n",
    "first_book_title.text"
   ]
  },
  {
   "cell_type": "markdown",
   "metadata": {},
   "source": [
    "Si vous êtes fan de JavaScript vous pouvez même injecter du code JS dans le navigateur depuis Python pour exécuter des opérations complexes. "
   ]
  },
  {
   "cell_type": "code",
   "execution_count": null,
   "metadata": {
    "ExecuteTime": {
     "end_time": "2024-10-07T20:30:34.896050Z",
     "start_time": "2024-10-07T20:30:34.893742Z"
    }
   },
   "outputs": [],
   "source": [
    "js_script = \"\"\"\n",
    "const class_name = 'DSIA'\n",
    "alert(`Hi from ${class_name}`)\n",
    "\"\"\""
   ]
  },
  {
   "cell_type": "code",
   "execution_count": null,
   "metadata": {
    "ExecuteTime": {
     "end_time": "2024-10-07T20:30:40.245670Z",
     "start_time": "2024-10-07T20:30:40.233696Z"
    }
   },
   "outputs": [],
   "source": [
    "chrome.execute_script(js_script)"
   ]
  },
  {
   "cell_type": "markdown",
   "metadata": {},
   "source": [
    "# Exercice"
   ]
  },
  {
   "cell_type": "markdown",
   "metadata": {},
   "source": [
    "## Exercice 1"
   ]
  },
  {
   "cell_type": "markdown",
   "metadata": {},
   "source": [
    "Extraire le prix des livres :"
   ]
  },
  {
   "cell_type": "code",
   "execution_count": null,
   "metadata": {
    "ExecuteTime": {
     "end_time": "2024-10-07T20:31:55.408417Z",
     "start_time": "2024-10-07T20:31:55.396231Z"
    }
   },
   "outputs": [
    {
     "data": {
      "text/plain": [
       "'£51.77'"
      ]
     },
     "execution_count": 39,
     "metadata": {},
     "output_type": "execute_result"
    }
   ],
   "source": [
    "def extract_price(book_web_element):\n",
    "    price = book_web_element.find_element(By.CLASS_NAME, \"product_price\")\n",
    "    price2 = price.find_element(By.CLASS_NAME, \"price_color\")\n",
    "    return price2.text\n",
    "\n",
    "extract_price(all_widgets[0])\n"
   ]
  },
  {
   "cell_type": "markdown",
   "metadata": {},
   "source": [
    "Extraire l'image des livres: "
   ]
  },
  {
   "cell_type": "code",
   "execution_count": null,
   "metadata": {
    "ExecuteTime": {
     "end_time": "2024-10-07T20:32:35.941382Z",
     "start_time": "2024-10-07T20:32:35.927749Z"
    }
   },
   "outputs": [
    {
     "data": {
      "text/plain": [
       "'https://books.toscrape.com/media/cache/2c/da/2cdad67c44b002e7ead0cc35693c0e8b.jpg'"
      ]
     },
     "execution_count": 47,
     "metadata": {},
     "output_type": "execute_result"
    }
   ],
   "source": [
    "def extract_image(book_web_element):\n",
    "    img_container = book_web_element.find_element(By.CLASS_NAME, \"image_container\")\n",
    "    img_tag = img_container.find_element(By.TAG_NAME, \"img\")\n",
    "    \n",
    "    # Return the 'src' attribute of the <img> tag\n",
    "    return img_tag.get_attribute(\"src\")\n",
    "extract_image(all_widgets[0])"
   ]
  },
  {
   "cell_type": "markdown",
   "metadata": {},
   "source": [
    "Extraire le nombre d'étoiles d'un livre: "
   ]
  },
  {
   "cell_type": "code",
   "execution_count": null,
   "metadata": {
    "ExecuteTime": {
     "end_time": "2024-10-07T20:34:01.578701Z",
     "start_time": "2024-10-07T20:34:01.567201Z"
    }
   },
   "outputs": [
    {
     "data": {
      "text/plain": [
       "'Three'"
      ]
     },
     "execution_count": 52,
     "metadata": {},
     "output_type": "execute_result"
    }
   ],
   "source": [
    "def extract_rating(book_web_element):\n",
    "    etoile = book_web_element.find_element(By.CLASS_NAME, \"star-rating\")\n",
    "    return etoile.get_attribute(\"class\").split()[-1]\n",
    "extract_rating(all_widgets[0])"
   ]
  },
  {
   "cell_type": "code",
   "execution_count": null,
   "metadata": {
    "ExecuteTime": {
     "end_time": "2024-10-07T20:34:04.274066Z",
     "start_time": "2024-10-07T20:34:04.201186Z"
    }
   },
   "outputs": [],
   "source": [
    "chrome.close()"
   ]
  },
  {
   "cell_type": "code",
   "execution_count": null,
   "metadata": {},
   "outputs": [],
   "source": []
  }
 ],
 "metadata": {
  "kernelspec": {
   "display_name": "DataEngineerTools-oOSzfaZD",
   "language": "python",
   "name": "python3"
  },
  "language_info": {
   "codemirror_mode": {
    "name": "ipython",
    "version": 3
   },
   "file_extension": ".py",
   "mimetype": "text/x-python",
   "name": "python",
   "nbconvert_exporter": "python",
   "pygments_lexer": "ipython3",
   "version": "3.12.5"
  }
 },
 "nbformat": 4,
 "nbformat_minor": 2
}
