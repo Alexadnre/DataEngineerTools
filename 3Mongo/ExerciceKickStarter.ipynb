{
 "cells": [
  {
   "cell_type": "markdown",
   "metadata": {},
   "source": [
    "#  Consignes\n",
    "\n",
    "## Description\n",
    "\n",
    "Ouvrir le fichier ks-projects-201801.csv, il recense environ 100 000 projets KickStarter. Intégrer les données directement avec L'API Python dans une base de données Mongo. \n",
    "\n",
    "Il conviendra de bien spécifier manuellement l'ID du document. Pensez aussi à bien formatter le type des données pour profiter des méthodes implémentées par Mongo. L'ensemble de données n'est pas forcément nécessaire, c'est à vous de créer votre modèle de données.\n",
    "\n",
    "## Questions\n",
    "\n",
    "- 1) Récupérer les 5 projets ayant reçu le plus de promesse de dons.\n",
    "- 2) Compter le nombre de projets ayant atteint leur but.\n",
    "- 3) Compter le nombre de projets pour chaque catégorie.\n",
    "- 4) Compter le nombre de projets français ayant été instanciés avant 2016.\n",
    "- 5) Récupérer les projets américains ayant demandé plus de 200 000 dollars.\n",
    "- 6) Compter le nombre de projet ayant \"Sport\" dans leur nom"
   ]
  },
  {
   "cell_type": "code",
   "metadata": {
    "ExecuteTime": {
     "end_time": "2024-10-08T14:05:41.853941Z",
     "start_time": "2024-10-08T14:05:35.910483Z"
    }
   },
   "source": [
    "import pandas as pd\n",
    "import pymongo"
   ],
   "outputs": [],
   "execution_count": 1
  },
  {
   "cell_type": "code",
   "metadata": {
    "ExecuteTime": {
     "end_time": "2024-10-08T14:05:42.677112Z",
     "start_time": "2024-10-08T14:05:42.666646Z"
    }
   },
   "source": [
    "client = pymongo.MongoClient()\n",
    "database = client['exercices']\n",
    "collection = database['kickstarter']"
   ],
   "outputs": [],
   "execution_count": 2
  },
  {
   "cell_type": "code",
   "metadata": {
    "ExecuteTime": {
     "end_time": "2024-10-08T14:06:50.610660Z",
     "start_time": "2024-10-08T14:06:50.439129Z"
    }
   },
   "source": [
    "df_ks = pd.read_csv(\"./data/ks-projects-201801-sample.csv\")\n",
    "df_ks.head(10)"
   ],
   "outputs": [
    {
     "name": "stderr",
     "output_type": "stream",
     "text": [
      "/var/folders/b_/kf3285hs7rvd4k1349nw4kg40000gn/T/ipykernel_68980/4081920836.py:1: DtypeWarning: Columns (6,8,10,12) have mixed types. Specify dtype option on import or set low_memory=False.\n",
      "  df_ks = pd.read_csv(\"./data/ks-projects-201801-sample.csv\")\n"
     ]
    },
    {
     "data": {
      "text/plain": [
       "           ID                                               name  \\\n",
       "0   872782264    Scott Cooper's Solo CD \"A Leg Trick\" (Canceled)   \n",
       "1  1326492673                                    Ohceola jewelry   \n",
       "2  1688410639  Sluff Off & Harald: Two latest EGGs are Classi...   \n",
       "3   156812982  SketchPlanner: Create and Plan- all in one bea...   \n",
       "4  1835968190    Proven sales with custom motorcycle accessories   \n",
       "5  1771789139                                   Room For Growth!   \n",
       "6  1301627822          Build a mini Udemy with Laravel and Vuejs   \n",
       "7   881336601                                         Applitizer   \n",
       "8  1669374237  Help I Am Wolves fund their first album \"ABCD\"...   \n",
       "9   556821416        Eco  Bamboo Underwear funding....GOT WOOD ?   \n",
       "\n",
       "         category main_category currency    deadline      goal  \\\n",
       "0            Rock         Music      USD  2011-09-16    2000.0   \n",
       "1         Fashion       Fashion      USD  2012-08-22   18000.0   \n",
       "2  Tabletop Games         Games      USD  2016-07-19    2000.0   \n",
       "3       Art Books    Publishing      USD  2017-09-27   13000.0   \n",
       "4       Sculpture           Art      CAD  2016-02-24    5000.0   \n",
       "5         Couture       Fashion      USD  2016-05-02    2000.0   \n",
       "6             Web    Technology      CAD  2018-01-11    3000.0   \n",
       "7        Software    Technology      HKD  2017-08-20  100000.0   \n",
       "8           Music         Music      EUR  2017-12-04    1000.0   \n",
       "9         Fashion       Fashion      GBP  2012-12-13    9500.0   \n",
       "\n",
       "              launched  pledged       state backers country  usd pledged  \\\n",
       "0  2011-08-17 06:31:31   1145.0    canceled      24      US       1145.0   \n",
       "1  2012-07-23 20:46:48   1851.0      failed      28      US       1851.0   \n",
       "2  2016-07-01 21:55:54   7534.0  successful     254      US       3796.0   \n",
       "3  2017-08-28 15:47:02  16298.0  successful     367      US       2670.0   \n",
       "4  2016-01-25 17:37:10      1.0      failed       1      CA     0.708148   \n",
       "5  2016-04-11 18:15:00      6.0      failed       2      US          6.0   \n",
       "6  2017-12-12 01:37:26    155.0        live       7      CA    15.563996   \n",
       "7  2017-07-21 16:50:05   1000.0      failed       1      HK    128.08538   \n",
       "8  2017-10-27 16:55:47   1465.0  successful      46      BE          0.0   \n",
       "9  2012-11-13 10:58:34   1212.0      failed      43      GB  1928.137119   \n",
       "\n",
       "   usd_pledged_real  \n",
       "0       1145.000000  \n",
       "1       1851.000000  \n",
       "2       7534.000000  \n",
       "3      16298.000000  \n",
       "4          0.738225  \n",
       "5          6.000000  \n",
       "6        123.811806  \n",
       "7        127.831467  \n",
       "8       1720.210418  \n",
       "9       1953.672808  "
      ],
      "text/html": [
       "<div>\n",
       "<style scoped>\n",
       "    .dataframe tbody tr th:only-of-type {\n",
       "        vertical-align: middle;\n",
       "    }\n",
       "\n",
       "    .dataframe tbody tr th {\n",
       "        vertical-align: top;\n",
       "    }\n",
       "\n",
       "    .dataframe thead th {\n",
       "        text-align: right;\n",
       "    }\n",
       "</style>\n",
       "<table border=\"1\" class=\"dataframe\">\n",
       "  <thead>\n",
       "    <tr style=\"text-align: right;\">\n",
       "      <th></th>\n",
       "      <th>ID</th>\n",
       "      <th>name</th>\n",
       "      <th>category</th>\n",
       "      <th>main_category</th>\n",
       "      <th>currency</th>\n",
       "      <th>deadline</th>\n",
       "      <th>goal</th>\n",
       "      <th>launched</th>\n",
       "      <th>pledged</th>\n",
       "      <th>state</th>\n",
       "      <th>backers</th>\n",
       "      <th>country</th>\n",
       "      <th>usd pledged</th>\n",
       "      <th>usd_pledged_real</th>\n",
       "    </tr>\n",
       "  </thead>\n",
       "  <tbody>\n",
       "    <tr>\n",
       "      <th>0</th>\n",
       "      <td>872782264</td>\n",
       "      <td>Scott Cooper's Solo CD \"A Leg Trick\" (Canceled)</td>\n",
       "      <td>Rock</td>\n",
       "      <td>Music</td>\n",
       "      <td>USD</td>\n",
       "      <td>2011-09-16</td>\n",
       "      <td>2000.0</td>\n",
       "      <td>2011-08-17 06:31:31</td>\n",
       "      <td>1145.0</td>\n",
       "      <td>canceled</td>\n",
       "      <td>24</td>\n",
       "      <td>US</td>\n",
       "      <td>1145.0</td>\n",
       "      <td>1145.000000</td>\n",
       "    </tr>\n",
       "    <tr>\n",
       "      <th>1</th>\n",
       "      <td>1326492673</td>\n",
       "      <td>Ohceola jewelry</td>\n",
       "      <td>Fashion</td>\n",
       "      <td>Fashion</td>\n",
       "      <td>USD</td>\n",
       "      <td>2012-08-22</td>\n",
       "      <td>18000.0</td>\n",
       "      <td>2012-07-23 20:46:48</td>\n",
       "      <td>1851.0</td>\n",
       "      <td>failed</td>\n",
       "      <td>28</td>\n",
       "      <td>US</td>\n",
       "      <td>1851.0</td>\n",
       "      <td>1851.000000</td>\n",
       "    </tr>\n",
       "    <tr>\n",
       "      <th>2</th>\n",
       "      <td>1688410639</td>\n",
       "      <td>Sluff Off &amp; Harald: Two latest EGGs are Classi...</td>\n",
       "      <td>Tabletop Games</td>\n",
       "      <td>Games</td>\n",
       "      <td>USD</td>\n",
       "      <td>2016-07-19</td>\n",
       "      <td>2000.0</td>\n",
       "      <td>2016-07-01 21:55:54</td>\n",
       "      <td>7534.0</td>\n",
       "      <td>successful</td>\n",
       "      <td>254</td>\n",
       "      <td>US</td>\n",
       "      <td>3796.0</td>\n",
       "      <td>7534.000000</td>\n",
       "    </tr>\n",
       "    <tr>\n",
       "      <th>3</th>\n",
       "      <td>156812982</td>\n",
       "      <td>SketchPlanner: Create and Plan- all in one bea...</td>\n",
       "      <td>Art Books</td>\n",
       "      <td>Publishing</td>\n",
       "      <td>USD</td>\n",
       "      <td>2017-09-27</td>\n",
       "      <td>13000.0</td>\n",
       "      <td>2017-08-28 15:47:02</td>\n",
       "      <td>16298.0</td>\n",
       "      <td>successful</td>\n",
       "      <td>367</td>\n",
       "      <td>US</td>\n",
       "      <td>2670.0</td>\n",
       "      <td>16298.000000</td>\n",
       "    </tr>\n",
       "    <tr>\n",
       "      <th>4</th>\n",
       "      <td>1835968190</td>\n",
       "      <td>Proven sales with custom motorcycle accessories</td>\n",
       "      <td>Sculpture</td>\n",
       "      <td>Art</td>\n",
       "      <td>CAD</td>\n",
       "      <td>2016-02-24</td>\n",
       "      <td>5000.0</td>\n",
       "      <td>2016-01-25 17:37:10</td>\n",
       "      <td>1.0</td>\n",
       "      <td>failed</td>\n",
       "      <td>1</td>\n",
       "      <td>CA</td>\n",
       "      <td>0.708148</td>\n",
       "      <td>0.738225</td>\n",
       "    </tr>\n",
       "    <tr>\n",
       "      <th>5</th>\n",
       "      <td>1771789139</td>\n",
       "      <td>Room For Growth!</td>\n",
       "      <td>Couture</td>\n",
       "      <td>Fashion</td>\n",
       "      <td>USD</td>\n",
       "      <td>2016-05-02</td>\n",
       "      <td>2000.0</td>\n",
       "      <td>2016-04-11 18:15:00</td>\n",
       "      <td>6.0</td>\n",
       "      <td>failed</td>\n",
       "      <td>2</td>\n",
       "      <td>US</td>\n",
       "      <td>6.0</td>\n",
       "      <td>6.000000</td>\n",
       "    </tr>\n",
       "    <tr>\n",
       "      <th>6</th>\n",
       "      <td>1301627822</td>\n",
       "      <td>Build a mini Udemy with Laravel and Vuejs</td>\n",
       "      <td>Web</td>\n",
       "      <td>Technology</td>\n",
       "      <td>CAD</td>\n",
       "      <td>2018-01-11</td>\n",
       "      <td>3000.0</td>\n",
       "      <td>2017-12-12 01:37:26</td>\n",
       "      <td>155.0</td>\n",
       "      <td>live</td>\n",
       "      <td>7</td>\n",
       "      <td>CA</td>\n",
       "      <td>15.563996</td>\n",
       "      <td>123.811806</td>\n",
       "    </tr>\n",
       "    <tr>\n",
       "      <th>7</th>\n",
       "      <td>881336601</td>\n",
       "      <td>Applitizer</td>\n",
       "      <td>Software</td>\n",
       "      <td>Technology</td>\n",
       "      <td>HKD</td>\n",
       "      <td>2017-08-20</td>\n",
       "      <td>100000.0</td>\n",
       "      <td>2017-07-21 16:50:05</td>\n",
       "      <td>1000.0</td>\n",
       "      <td>failed</td>\n",
       "      <td>1</td>\n",
       "      <td>HK</td>\n",
       "      <td>128.08538</td>\n",
       "      <td>127.831467</td>\n",
       "    </tr>\n",
       "    <tr>\n",
       "      <th>8</th>\n",
       "      <td>1669374237</td>\n",
       "      <td>Help I Am Wolves fund their first album \"ABCD\"...</td>\n",
       "      <td>Music</td>\n",
       "      <td>Music</td>\n",
       "      <td>EUR</td>\n",
       "      <td>2017-12-04</td>\n",
       "      <td>1000.0</td>\n",
       "      <td>2017-10-27 16:55:47</td>\n",
       "      <td>1465.0</td>\n",
       "      <td>successful</td>\n",
       "      <td>46</td>\n",
       "      <td>BE</td>\n",
       "      <td>0.0</td>\n",
       "      <td>1720.210418</td>\n",
       "    </tr>\n",
       "    <tr>\n",
       "      <th>9</th>\n",
       "      <td>556821416</td>\n",
       "      <td>Eco  Bamboo Underwear funding....GOT WOOD ?</td>\n",
       "      <td>Fashion</td>\n",
       "      <td>Fashion</td>\n",
       "      <td>GBP</td>\n",
       "      <td>2012-12-13</td>\n",
       "      <td>9500.0</td>\n",
       "      <td>2012-11-13 10:58:34</td>\n",
       "      <td>1212.0</td>\n",
       "      <td>failed</td>\n",
       "      <td>43</td>\n",
       "      <td>GB</td>\n",
       "      <td>1928.137119</td>\n",
       "      <td>1953.672808</td>\n",
       "    </tr>\n",
       "  </tbody>\n",
       "</table>\n",
       "</div>"
      ]
     },
     "execution_count": 6,
     "metadata": {},
     "output_type": "execute_result"
    }
   ],
   "execution_count": 6
  },
  {
   "cell_type": "markdown",
   "metadata": {},
   "source": [
    "Ce warning intervient lorsque pandas n'arrive pas à inférer le type de données. Il est sympa il précise les colones 6,8,10,12. "
   ]
  },
  {
   "cell_type": "code",
   "metadata": {
    "ExecuteTime": {
     "end_time": "2024-10-08T14:06:17.129602Z",
     "start_time": "2024-10-08T14:06:17.125394Z"
    }
   },
   "source": [
    "df_ks.columns[[6,8,10,12]]"
   ],
   "outputs": [
    {
     "data": {
      "text/plain": [
       "Index(['goal', 'pledged', 'backers', 'usd pledged'], dtype='object')"
      ]
     },
     "execution_count": 4,
     "metadata": {},
     "output_type": "execute_result"
    }
   ],
   "execution_count": 4
  },
  {
   "cell_type": "markdown",
   "metadata": {},
   "source": [
    "## Question 0"
   ]
  },
  {
   "cell_type": "markdown",
   "metadata": {},
   "source": [
    "### Netoyer les données"
   ]
  },
  {
   "cell_type": "markdown",
   "metadata": {
    "slideshow": {
     "slide_type": "slide"
    }
   },
   "source": [
    "### Importer les données"
   ]
  },
  {
   "cell_type": "markdown",
   "metadata": {},
   "source": [
    "## Question 1  "
   ]
  },
  {
   "cell_type": "markdown",
   "metadata": {},
   "source": [
    "## Question 2"
   ]
  },
  {
   "cell_type": "markdown",
   "metadata": {},
   "source": [
    "## Question 3"
   ]
  },
  {
   "cell_type": "markdown",
   "metadata": {},
   "source": [
    "## Question 4"
   ]
  },
  {
   "cell_type": "markdown",
   "metadata": {},
   "source": [
    "## Question 5"
   ]
  },
  {
   "cell_type": "markdown",
   "metadata": {},
   "source": [
    "## Question 6 "
   ]
  },
  {
   "cell_type": "code",
   "execution_count": null,
   "metadata": {},
   "outputs": [],
   "source": []
  }
 ],
 "metadata": {
  "kernelspec": {
   "display_name": "Python 3",
   "language": "python",
   "name": "python3"
  },
  "language_info": {
   "codemirror_mode": {
    "name": "ipython",
    "version": 3
   },
   "file_extension": ".py",
   "mimetype": "text/x-python",
   "name": "python",
   "nbconvert_exporter": "python",
   "pygments_lexer": "ipython3",
   "version": "3.7.3"
  }
 },
 "nbformat": 4,
 "nbformat_minor": 2
}
